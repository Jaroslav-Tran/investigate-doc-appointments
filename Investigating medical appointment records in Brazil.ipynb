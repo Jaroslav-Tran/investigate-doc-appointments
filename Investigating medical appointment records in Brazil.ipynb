{
 "cells": [
  {
   "cell_type": "markdown",
   "metadata": {},
   "source": [
    "# Investigating medical appointment records in Brazil focused on whether the patient showed up for their appointment or not\n",
    "\n",
    "## Table of Contents\n",
    "<ul>\n",
    "<li><a href=\"#intro\">Introduction</a></li>\n",
    "<li><a href=\"#wrangling\">Data Wrangling</a></li>\n",
    "<li><a href=\"#eda\">Exploratory Data Analysis</a></li>\n",
    "<li><a href=\"#conclusions\">Conclusions</a></li>\n",
    "</ul>"
   ]
  },
  {
   "cell_type": "markdown",
   "metadata": {},
   "source": [
    "<a id='intro'></a>\n",
    "## Introduction\n",
    "\n",
    "This dataset collects information from 100k medical appointments in Brazil and 14 associated variables (characteristics). It is focused on the question of whether or not patients show up for their appointment. A number of characteristics about the patient are included in each row.\n",
    "\n",
    "<ul>\n",
    "    <li>PatientId: Identification of a patient</li>\n",
    "    <li>AppointmentID: Identification of each appointment</li>\n",
    "    <li>Gender: Male or Female . Female is the greater proportion, women take way more care of they health in comparison to man.</li>\n",
    "    <li>ScheduledDay: The day of the actuall appointment, when they have to visit the doctor.</li>\n",
    "    <li>AppointmentDay: The day someone called or registered the appointment, this is before appointment of course.</li>\n",
    "    <li>Age: How old is the patient.</li>\n",
    "    <li>Neighbourhood: Where the appointment takes place.</li>\n",
    "    <li>Scholarship: True of False . Observation, this is a broad topic, consider reading this article https://en.wikipedia.org/wiki/Bolsa_Fam%C3%ADlia\t</li>\n",
    "    <li>Hipertension: True or False.</li>\n",
    "    <li>Diabetes: True or False.</li>\n",
    "    <li>Alcoholism: True or False.</li>\n",
    "    <li>Handcap: True or False.</li>\n",
    "    <li>SMS_received: True or False: 1 or more messages sent to the patient.</li>\n",
    "    <li>No-show> True (Did not show up) or False (Showed up). </li\n",
    "</ul>"
   ]
  },
  {
   "cell_type": "code",
   "execution_count": 1,
   "metadata": {},
   "outputs": [],
   "source": [
    "# Importing all the necessary packages\n",
    "import pandas as pd\n",
    "import numpy as np\n",
    "\n",
    "import matplotlib.pyplot as plt\n",
    "import seaborn as sns\n",
    "import datetime\n",
    "import sklearn\n",
    "from sklearn import preprocessing\n",
    "from sklearn import metrics\n",
    "from sklearn.linear_model import LogisticRegression\n",
    "from sklearn.model_selection import train_test_split\n",
    "import statsmodels.api as sm\n",
    "\n",
    "%matplotlib inline"
   ]
  },
  {
   "cell_type": "markdown",
   "metadata": {},
   "source": [
    "### Potential Research Questions\n",
    "<ol>\n",
    "    <li> What neighborhoods have the most absences?</li>\n",
    "    <li> What days were the most appointments missed?</li>\n",
    "    <li> Which age groups (Young, Adults, etc.) have the most absences?</li>\n",
    "    <li> Are people who receive SMS are more or less absent than the ones who do not?</li>\n",
    "    <li> Which characteristics affect the likelihood of absence the most? By how much?</li>\n",
    "</ol>"
   ]
  },
  {
   "cell_type": "markdown",
   "metadata": {},
   "source": [
    "<a id='wrangling'></a>\n",
    "## Data Wrangling\n",
    "\n",
    "### General Properties"
   ]
  },
  {
   "cell_type": "code",
   "execution_count": 2,
   "metadata": {},
   "outputs": [
    {
     "data": {
      "text/html": [
       "<div>\n",
       "<style scoped>\n",
       "    .dataframe tbody tr th:only-of-type {\n",
       "        vertical-align: middle;\n",
       "    }\n",
       "\n",
       "    .dataframe tbody tr th {\n",
       "        vertical-align: top;\n",
       "    }\n",
       "\n",
       "    .dataframe thead th {\n",
       "        text-align: right;\n",
       "    }\n",
       "</style>\n",
       "<table border=\"1\" class=\"dataframe\">\n",
       "  <thead>\n",
       "    <tr style=\"text-align: right;\">\n",
       "      <th></th>\n",
       "      <th>PatientId</th>\n",
       "      <th>AppointmentID</th>\n",
       "      <th>Gender</th>\n",
       "      <th>ScheduledDay</th>\n",
       "      <th>AppointmentDay</th>\n",
       "      <th>Age</th>\n",
       "      <th>Neighbourhood</th>\n",
       "      <th>Scholarship</th>\n",
       "      <th>Hipertension</th>\n",
       "      <th>Diabetes</th>\n",
       "      <th>Alcoholism</th>\n",
       "      <th>Handcap</th>\n",
       "      <th>SMS_received</th>\n",
       "      <th>No-show</th>\n",
       "    </tr>\n",
       "  </thead>\n",
       "  <tbody>\n",
       "    <tr>\n",
       "      <th>0</th>\n",
       "      <td>2.987250e+13</td>\n",
       "      <td>5642903</td>\n",
       "      <td>F</td>\n",
       "      <td>2016-04-29T18:38:08Z</td>\n",
       "      <td>2016-04-29T00:00:00Z</td>\n",
       "      <td>62</td>\n",
       "      <td>JARDIM DA PENHA</td>\n",
       "      <td>0</td>\n",
       "      <td>1</td>\n",
       "      <td>0</td>\n",
       "      <td>0</td>\n",
       "      <td>0</td>\n",
       "      <td>0</td>\n",
       "      <td>No</td>\n",
       "    </tr>\n",
       "    <tr>\n",
       "      <th>1</th>\n",
       "      <td>5.589980e+14</td>\n",
       "      <td>5642503</td>\n",
       "      <td>M</td>\n",
       "      <td>2016-04-29T16:08:27Z</td>\n",
       "      <td>2016-04-29T00:00:00Z</td>\n",
       "      <td>56</td>\n",
       "      <td>JARDIM DA PENHA</td>\n",
       "      <td>0</td>\n",
       "      <td>0</td>\n",
       "      <td>0</td>\n",
       "      <td>0</td>\n",
       "      <td>0</td>\n",
       "      <td>0</td>\n",
       "      <td>No</td>\n",
       "    </tr>\n",
       "    <tr>\n",
       "      <th>2</th>\n",
       "      <td>4.262960e+12</td>\n",
       "      <td>5642549</td>\n",
       "      <td>F</td>\n",
       "      <td>2016-04-29T16:19:04Z</td>\n",
       "      <td>2016-04-29T00:00:00Z</td>\n",
       "      <td>62</td>\n",
       "      <td>MATA DA PRAIA</td>\n",
       "      <td>0</td>\n",
       "      <td>0</td>\n",
       "      <td>0</td>\n",
       "      <td>0</td>\n",
       "      <td>0</td>\n",
       "      <td>0</td>\n",
       "      <td>No</td>\n",
       "    </tr>\n",
       "    <tr>\n",
       "      <th>3</th>\n",
       "      <td>8.679510e+11</td>\n",
       "      <td>5642828</td>\n",
       "      <td>F</td>\n",
       "      <td>2016-04-29T17:29:31Z</td>\n",
       "      <td>2016-04-29T00:00:00Z</td>\n",
       "      <td>8</td>\n",
       "      <td>PONTAL DE CAMBURI</td>\n",
       "      <td>0</td>\n",
       "      <td>0</td>\n",
       "      <td>0</td>\n",
       "      <td>0</td>\n",
       "      <td>0</td>\n",
       "      <td>0</td>\n",
       "      <td>No</td>\n",
       "    </tr>\n",
       "    <tr>\n",
       "      <th>4</th>\n",
       "      <td>8.841190e+12</td>\n",
       "      <td>5642494</td>\n",
       "      <td>F</td>\n",
       "      <td>2016-04-29T16:07:23Z</td>\n",
       "      <td>2016-04-29T00:00:00Z</td>\n",
       "      <td>56</td>\n",
       "      <td>JARDIM DA PENHA</td>\n",
       "      <td>0</td>\n",
       "      <td>1</td>\n",
       "      <td>1</td>\n",
       "      <td>0</td>\n",
       "      <td>0</td>\n",
       "      <td>0</td>\n",
       "      <td>No</td>\n",
       "    </tr>\n",
       "  </tbody>\n",
       "</table>\n",
       "</div>"
      ],
      "text/plain": [
       "      PatientId  AppointmentID Gender          ScheduledDay  \\\n",
       "0  2.987250e+13        5642903      F  2016-04-29T18:38:08Z   \n",
       "1  5.589980e+14        5642503      M  2016-04-29T16:08:27Z   \n",
       "2  4.262960e+12        5642549      F  2016-04-29T16:19:04Z   \n",
       "3  8.679510e+11        5642828      F  2016-04-29T17:29:31Z   \n",
       "4  8.841190e+12        5642494      F  2016-04-29T16:07:23Z   \n",
       "\n",
       "         AppointmentDay  Age      Neighbourhood  Scholarship  Hipertension  \\\n",
       "0  2016-04-29T00:00:00Z   62    JARDIM DA PENHA            0             1   \n",
       "1  2016-04-29T00:00:00Z   56    JARDIM DA PENHA            0             0   \n",
       "2  2016-04-29T00:00:00Z   62      MATA DA PRAIA            0             0   \n",
       "3  2016-04-29T00:00:00Z    8  PONTAL DE CAMBURI            0             0   \n",
       "4  2016-04-29T00:00:00Z   56    JARDIM DA PENHA            0             1   \n",
       "\n",
       "   Diabetes  Alcoholism  Handcap  SMS_received No-show  \n",
       "0         0           0        0             0      No  \n",
       "1         0           0        0             0      No  \n",
       "2         0           0        0             0      No  \n",
       "3         0           0        0             0      No  \n",
       "4         1           0        0             0      No  "
      ]
     },
     "execution_count": 2,
     "metadata": {},
     "output_type": "execute_result"
    }
   ],
   "source": [
    "# Loading dataset\n",
    "df = pd.read_csv(\"noshowappointments2016.csv\")\n",
    "\n",
    "# Taking a look at the first five rows\n",
    "df.head()"
   ]
  },
  {
   "cell_type": "markdown",
   "metadata": {},
   "source": [
    "#### Comments\n",
    "From the first glance, there are few things that will need to be handled:\n",
    "<ul> \n",
    "    <li> The dates look like in a very detailed format so they will need to be extracted/converted </li>\n",
    "    <li> The No-shows are in Yes/No string format and will need to be converted to a numerical value </li>\n",
    "    <li> The Age should be encoded to 1(Male) and 0(Female) so it is easier to analyze and manipulate </li>\n",
    "</ul>"
   ]
  },
  {
   "cell_type": "code",
   "execution_count": 3,
   "metadata": {},
   "outputs": [
    {
     "data": {
      "text/plain": [
       "PatientId         float64\n",
       "AppointmentID       int64\n",
       "Gender             object\n",
       "ScheduledDay       object\n",
       "AppointmentDay     object\n",
       "Age                 int64\n",
       "Neighbourhood      object\n",
       "Scholarship         int64\n",
       "Hipertension        int64\n",
       "Diabetes            int64\n",
       "Alcoholism          int64\n",
       "Handcap             int64\n",
       "SMS_received        int64\n",
       "No-show            object\n",
       "dtype: object"
      ]
     },
     "execution_count": 3,
     "metadata": {},
     "output_type": "execute_result"
    }
   ],
   "source": [
    "# Checking the data types to see if there are some potentially tricky datatypes that we will need to convert\n",
    "df.dtypes"
   ]
  },
  {
   "cell_type": "markdown",
   "metadata": {},
   "source": [
    "#### Comments\n",
    "Regarding the data types:\n",
    "<ul> \n",
    "    <li> The dates are in a string format so to extract them to a YYYY-MM-DD format, we will convert them to date format so we can use date manipulation functions </li>\n",
    "    <li> The No-shows are in the string format and will need to be converted to integer format</li>\n",
    "</ul>"
   ]
  },
  {
   "cell_type": "code",
   "execution_count": 4,
   "metadata": {},
   "outputs": [
    {
     "data": {
      "text/plain": [
       "PatientId         0\n",
       "AppointmentID     0\n",
       "Gender            0\n",
       "ScheduledDay      0\n",
       "AppointmentDay    0\n",
       "Age               0\n",
       "Neighbourhood     0\n",
       "Scholarship       0\n",
       "Hipertension      0\n",
       "Diabetes          0\n",
       "Alcoholism        0\n",
       "Handcap           0\n",
       "SMS_received      0\n",
       "No-show           0\n",
       "dtype: int64"
      ]
     },
     "execution_count": 4,
     "metadata": {},
     "output_type": "execute_result"
    }
   ],
   "source": [
    "# Looking at the number of null values to see if we are going to need to replace them\n",
    "df.isnull().sum()"
   ]
  },
  {
   "cell_type": "code",
   "execution_count": 5,
   "metadata": {},
   "outputs": [
    {
     "data": {
      "text/plain": [
       "0"
      ]
     },
     "execution_count": 5,
     "metadata": {},
     "output_type": "execute_result"
    }
   ],
   "source": [
    "# Looking at the number of duplicate values to see if we are going to need to replace them\n",
    "df.duplicated().sum()"
   ]
  },
  {
   "cell_type": "markdown",
   "metadata": {},
   "source": [
    "### General Properties: Conclusion\n",
    "#### From a brief analysis of the properties, we can conclude that:\n",
    "<ol>\n",
    "<li>The dates will have to be converted to a more analysis friendly format and data type preferably on a day (Monday = 1, Tuesday = 2, ...) format</li>\n",
    "<li>The no/show is confusing and in the string data type. We will rename the column name to Absent and convert the values to 1 and 0 so they are easier to plot</li>\n",
    "<li>The ages will have to be put into bins, otherwise the plotting will be messy with such a wide distribution</li>\n",
    "<li> There are not any null or duplicate values in this dataset, making our job simpler </li>\n",
    "</ol>"
   ]
  },
  {
   "cell_type": "markdown",
   "metadata": {},
   "source": [
    "### Research Questions\n",
    "#### The questions that we are going to answer are:\n",
    "<ol>  \n",
    " <li> What neighborhoods have the most absences? </li>  \n",
    " <li> What days were the most appointments missed? </li>  \n",
    " <li> Which age groups (Young, Adults, etc.) have the most absences? </li>  \n",
    " <li> Are people who receive SMS are more or less absent than the ones who do not? </li>  \n",
    " <li> Which characteristics affect the likelihood of absence the most? By how much? </li>\n",
    "</ol>  "
   ]
  },
  {
   "cell_type": "markdown",
   "metadata": {},
   "source": [
    "### Data Cleaning"
   ]
  },
  {
   "cell_type": "code",
   "execution_count": 6,
   "metadata": {},
   "outputs": [
    {
     "data": {
      "text/html": [
       "<div>\n",
       "<style scoped>\n",
       "    .dataframe tbody tr th:only-of-type {\n",
       "        vertical-align: middle;\n",
       "    }\n",
       "\n",
       "    .dataframe tbody tr th {\n",
       "        vertical-align: top;\n",
       "    }\n",
       "\n",
       "    .dataframe thead th {\n",
       "        text-align: right;\n",
       "    }\n",
       "</style>\n",
       "<table border=\"1\" class=\"dataframe\">\n",
       "  <thead>\n",
       "    <tr style=\"text-align: right;\">\n",
       "      <th></th>\n",
       "      <th>PatientId</th>\n",
       "      <th>AppointmentID</th>\n",
       "      <th>Gender</th>\n",
       "      <th>ScheduledDay</th>\n",
       "      <th>AppointmentDay</th>\n",
       "      <th>Age</th>\n",
       "      <th>Neighbourhood</th>\n",
       "      <th>Scholarship</th>\n",
       "      <th>Hipertension</th>\n",
       "      <th>Diabetes</th>\n",
       "      <th>Alcoholism</th>\n",
       "      <th>Handcap</th>\n",
       "      <th>SMS_received</th>\n",
       "      <th>No-show</th>\n",
       "      <th>ScheduledDayOfWeek</th>\n",
       "      <th>AppointmentDayOfWeek</th>\n",
       "    </tr>\n",
       "  </thead>\n",
       "  <tbody>\n",
       "    <tr>\n",
       "      <th>110522</th>\n",
       "      <td>2.572130e+12</td>\n",
       "      <td>5651768</td>\n",
       "      <td>F</td>\n",
       "      <td>2016-05-03 09:15:35</td>\n",
       "      <td>2016-06-07</td>\n",
       "      <td>56</td>\n",
       "      <td>MARIA ORTIZ</td>\n",
       "      <td>0</td>\n",
       "      <td>0</td>\n",
       "      <td>0</td>\n",
       "      <td>0</td>\n",
       "      <td>0</td>\n",
       "      <td>1</td>\n",
       "      <td>No</td>\n",
       "      <td>1</td>\n",
       "      <td>1</td>\n",
       "    </tr>\n",
       "    <tr>\n",
       "      <th>110523</th>\n",
       "      <td>3.596270e+12</td>\n",
       "      <td>5650093</td>\n",
       "      <td>F</td>\n",
       "      <td>2016-05-03 07:27:33</td>\n",
       "      <td>2016-06-07</td>\n",
       "      <td>51</td>\n",
       "      <td>MARIA ORTIZ</td>\n",
       "      <td>0</td>\n",
       "      <td>0</td>\n",
       "      <td>0</td>\n",
       "      <td>0</td>\n",
       "      <td>0</td>\n",
       "      <td>1</td>\n",
       "      <td>No</td>\n",
       "      <td>1</td>\n",
       "      <td>1</td>\n",
       "    </tr>\n",
       "    <tr>\n",
       "      <th>110524</th>\n",
       "      <td>1.557660e+13</td>\n",
       "      <td>5630692</td>\n",
       "      <td>F</td>\n",
       "      <td>2016-04-27 16:03:52</td>\n",
       "      <td>2016-06-07</td>\n",
       "      <td>21</td>\n",
       "      <td>MARIA ORTIZ</td>\n",
       "      <td>0</td>\n",
       "      <td>0</td>\n",
       "      <td>0</td>\n",
       "      <td>0</td>\n",
       "      <td>0</td>\n",
       "      <td>1</td>\n",
       "      <td>No</td>\n",
       "      <td>2</td>\n",
       "      <td>1</td>\n",
       "    </tr>\n",
       "    <tr>\n",
       "      <th>110525</th>\n",
       "      <td>9.213490e+13</td>\n",
       "      <td>5630323</td>\n",
       "      <td>F</td>\n",
       "      <td>2016-04-27 15:09:23</td>\n",
       "      <td>2016-06-07</td>\n",
       "      <td>38</td>\n",
       "      <td>MARIA ORTIZ</td>\n",
       "      <td>0</td>\n",
       "      <td>0</td>\n",
       "      <td>0</td>\n",
       "      <td>0</td>\n",
       "      <td>0</td>\n",
       "      <td>1</td>\n",
       "      <td>No</td>\n",
       "      <td>2</td>\n",
       "      <td>1</td>\n",
       "    </tr>\n",
       "    <tr>\n",
       "      <th>110526</th>\n",
       "      <td>3.775120e+14</td>\n",
       "      <td>5629448</td>\n",
       "      <td>F</td>\n",
       "      <td>2016-04-27 13:30:56</td>\n",
       "      <td>2016-06-07</td>\n",
       "      <td>54</td>\n",
       "      <td>MARIA ORTIZ</td>\n",
       "      <td>0</td>\n",
       "      <td>0</td>\n",
       "      <td>0</td>\n",
       "      <td>0</td>\n",
       "      <td>0</td>\n",
       "      <td>1</td>\n",
       "      <td>No</td>\n",
       "      <td>2</td>\n",
       "      <td>1</td>\n",
       "    </tr>\n",
       "  </tbody>\n",
       "</table>\n",
       "</div>"
      ],
      "text/plain": [
       "           PatientId  AppointmentID Gender        ScheduledDay AppointmentDay  \\\n",
       "110522  2.572130e+12        5651768      F 2016-05-03 09:15:35     2016-06-07   \n",
       "110523  3.596270e+12        5650093      F 2016-05-03 07:27:33     2016-06-07   \n",
       "110524  1.557660e+13        5630692      F 2016-04-27 16:03:52     2016-06-07   \n",
       "110525  9.213490e+13        5630323      F 2016-04-27 15:09:23     2016-06-07   \n",
       "110526  3.775120e+14        5629448      F 2016-04-27 13:30:56     2016-06-07   \n",
       "\n",
       "        Age Neighbourhood  Scholarship  Hipertension  Diabetes  Alcoholism  \\\n",
       "110522   56   MARIA ORTIZ            0             0         0           0   \n",
       "110523   51   MARIA ORTIZ            0             0         0           0   \n",
       "110524   21   MARIA ORTIZ            0             0         0           0   \n",
       "110525   38   MARIA ORTIZ            0             0         0           0   \n",
       "110526   54   MARIA ORTIZ            0             0         0           0   \n",
       "\n",
       "        Handcap  SMS_received No-show  ScheduledDayOfWeek  \\\n",
       "110522        0             1      No                   1   \n",
       "110523        0             1      No                   1   \n",
       "110524        0             1      No                   2   \n",
       "110525        0             1      No                   2   \n",
       "110526        0             1      No                   2   \n",
       "\n",
       "        AppointmentDayOfWeek  \n",
       "110522                     1  \n",
       "110523                     1  \n",
       "110524                     1  \n",
       "110525                     1  \n",
       "110526                     1  "
      ]
     },
     "execution_count": 6,
     "metadata": {},
     "output_type": "execute_result"
    }
   ],
   "source": [
    "# Converting dates. Rather than analyzing full date to the last second, what will be more useful for this analysis is to extract\n",
    "# year, month and day and create a separate columns day of the week to see whether there are patterns\n",
    "\n",
    "# Before we start with cleaning, lets create a copy of our original dataset\n",
    "df1 = df.copy()\n",
    "\n",
    "# Converting Scheduled Day and Appointment Day to a datetime data type and extracting it into YYYY-MM-DD format\n",
    "df1[\"ScheduledDay\"] = pd.to_datetime(df1[\"ScheduledDay\"])\n",
    "df1[\"AppointmentDay\"] = pd.to_datetime(df1[\"AppointmentDay\"])\n",
    "\n",
    "# Extracting day of the week from the dates and creating a new columns out of it\n",
    "df1[\"ScheduledDayOfWeek\"] = df1[\"ScheduledDay\"].dt.dayofweek\n",
    "df1[\"AppointmentDayOfWeek\"] = df1[\"AppointmentDay\"].dt.dayofweek\n",
    "df1.tail()"
   ]
  },
  {
   "cell_type": "code",
   "execution_count": 8,
   "metadata": {},
   "outputs": [
    {
     "data": {
      "text/html": [
       "<div>\n",
       "<style scoped>\n",
       "    .dataframe tbody tr th:only-of-type {\n",
       "        vertical-align: middle;\n",
       "    }\n",
       "\n",
       "    .dataframe tbody tr th {\n",
       "        vertical-align: top;\n",
       "    }\n",
       "\n",
       "    .dataframe thead th {\n",
       "        text-align: right;\n",
       "    }\n",
       "</style>\n",
       "<table border=\"1\" class=\"dataframe\">\n",
       "  <thead>\n",
       "    <tr style=\"text-align: right;\">\n",
       "      <th></th>\n",
       "      <th>PatientId</th>\n",
       "      <th>AppointmentID</th>\n",
       "      <th>Gender</th>\n",
       "      <th>ScheduledDay</th>\n",
       "      <th>AppointmentDay</th>\n",
       "      <th>Age</th>\n",
       "      <th>Neighbourhood</th>\n",
       "      <th>Scholarship</th>\n",
       "      <th>Hipertension</th>\n",
       "      <th>Diabetes</th>\n",
       "      <th>Alcoholism</th>\n",
       "      <th>Handcap</th>\n",
       "      <th>SMS_received</th>\n",
       "      <th>Absent</th>\n",
       "      <th>ScheduledDayOfWeek</th>\n",
       "      <th>AppointmentDayOfWeek</th>\n",
       "    </tr>\n",
       "  </thead>\n",
       "  <tbody>\n",
       "    <tr>\n",
       "      <th>0</th>\n",
       "      <td>2.987250e+13</td>\n",
       "      <td>5642903</td>\n",
       "      <td>F</td>\n",
       "      <td>2016-04-29 18:38:08</td>\n",
       "      <td>2016-04-29</td>\n",
       "      <td>62</td>\n",
       "      <td>JARDIM DA PENHA</td>\n",
       "      <td>0</td>\n",
       "      <td>1</td>\n",
       "      <td>0</td>\n",
       "      <td>0</td>\n",
       "      <td>0</td>\n",
       "      <td>0</td>\n",
       "      <td>No</td>\n",
       "      <td>4</td>\n",
       "      <td>4</td>\n",
       "    </tr>\n",
       "    <tr>\n",
       "      <th>1</th>\n",
       "      <td>5.589980e+14</td>\n",
       "      <td>5642503</td>\n",
       "      <td>M</td>\n",
       "      <td>2016-04-29 16:08:27</td>\n",
       "      <td>2016-04-29</td>\n",
       "      <td>56</td>\n",
       "      <td>JARDIM DA PENHA</td>\n",
       "      <td>0</td>\n",
       "      <td>0</td>\n",
       "      <td>0</td>\n",
       "      <td>0</td>\n",
       "      <td>0</td>\n",
       "      <td>0</td>\n",
       "      <td>No</td>\n",
       "      <td>4</td>\n",
       "      <td>4</td>\n",
       "    </tr>\n",
       "    <tr>\n",
       "      <th>2</th>\n",
       "      <td>4.262960e+12</td>\n",
       "      <td>5642549</td>\n",
       "      <td>F</td>\n",
       "      <td>2016-04-29 16:19:04</td>\n",
       "      <td>2016-04-29</td>\n",
       "      <td>62</td>\n",
       "      <td>MATA DA PRAIA</td>\n",
       "      <td>0</td>\n",
       "      <td>0</td>\n",
       "      <td>0</td>\n",
       "      <td>0</td>\n",
       "      <td>0</td>\n",
       "      <td>0</td>\n",
       "      <td>No</td>\n",
       "      <td>4</td>\n",
       "      <td>4</td>\n",
       "    </tr>\n",
       "    <tr>\n",
       "      <th>3</th>\n",
       "      <td>8.679510e+11</td>\n",
       "      <td>5642828</td>\n",
       "      <td>F</td>\n",
       "      <td>2016-04-29 17:29:31</td>\n",
       "      <td>2016-04-29</td>\n",
       "      <td>8</td>\n",
       "      <td>PONTAL DE CAMBURI</td>\n",
       "      <td>0</td>\n",
       "      <td>0</td>\n",
       "      <td>0</td>\n",
       "      <td>0</td>\n",
       "      <td>0</td>\n",
       "      <td>0</td>\n",
       "      <td>No</td>\n",
       "      <td>4</td>\n",
       "      <td>4</td>\n",
       "    </tr>\n",
       "    <tr>\n",
       "      <th>4</th>\n",
       "      <td>8.841190e+12</td>\n",
       "      <td>5642494</td>\n",
       "      <td>F</td>\n",
       "      <td>2016-04-29 16:07:23</td>\n",
       "      <td>2016-04-29</td>\n",
       "      <td>56</td>\n",
       "      <td>JARDIM DA PENHA</td>\n",
       "      <td>0</td>\n",
       "      <td>1</td>\n",
       "      <td>1</td>\n",
       "      <td>0</td>\n",
       "      <td>0</td>\n",
       "      <td>0</td>\n",
       "      <td>No</td>\n",
       "      <td>4</td>\n",
       "      <td>4</td>\n",
       "    </tr>\n",
       "  </tbody>\n",
       "</table>\n",
       "</div>"
      ],
      "text/plain": [
       "      PatientId  AppointmentID Gender        ScheduledDay AppointmentDay  Age  \\\n",
       "0  2.987250e+13        5642903      F 2016-04-29 18:38:08     2016-04-29   62   \n",
       "1  5.589980e+14        5642503      M 2016-04-29 16:08:27     2016-04-29   56   \n",
       "2  4.262960e+12        5642549      F 2016-04-29 16:19:04     2016-04-29   62   \n",
       "3  8.679510e+11        5642828      F 2016-04-29 17:29:31     2016-04-29    8   \n",
       "4  8.841190e+12        5642494      F 2016-04-29 16:07:23     2016-04-29   56   \n",
       "\n",
       "       Neighbourhood  Scholarship  Hipertension  Diabetes  Alcoholism  \\\n",
       "0    JARDIM DA PENHA            0             1         0           0   \n",
       "1    JARDIM DA PENHA            0             0         0           0   \n",
       "2      MATA DA PRAIA            0             0         0           0   \n",
       "3  PONTAL DE CAMBURI            0             0         0           0   \n",
       "4    JARDIM DA PENHA            0             1         1           0   \n",
       "\n",
       "   Handcap  SMS_received Absent  ScheduledDayOfWeek  AppointmentDayOfWeek  \n",
       "0        0             0     No                   4                     4  \n",
       "1        0             0     No                   4                     4  \n",
       "2        0             0     No                   4                     4  \n",
       "3        0             0     No                   4                     4  \n",
       "4        0             0     No                   4                     4  "
      ]
     },
     "execution_count": 8,
     "metadata": {},
     "output_type": "execute_result"
    }
   ],
   "source": [
    "# Changing column name from No-show to Absent\n",
    "df1.rename(columns={\"No-show\":\"Absent\"}, inplace=True)\n",
    "df1.head()"
   ]
  },
  {
   "cell_type": "code",
   "execution_count": 9,
   "metadata": {},
   "outputs": [
    {
     "data": {
      "text/plain": [
       "No     88208\n",
       "Yes    22319\n",
       "Name: Absent, dtype: int64"
      ]
     },
     "execution_count": 9,
     "metadata": {},
     "output_type": "execute_result"
    }
   ],
   "source": [
    "# Checking value count of Absent col\n",
    "df1.Absent.value_counts()"
   ]
  },
  {
   "cell_type": "code",
   "execution_count": 10,
   "metadata": {},
   "outputs": [
    {
     "data": {
      "text/html": [
       "<div>\n",
       "<style scoped>\n",
       "    .dataframe tbody tr th:only-of-type {\n",
       "        vertical-align: middle;\n",
       "    }\n",
       "\n",
       "    .dataframe tbody tr th {\n",
       "        vertical-align: top;\n",
       "    }\n",
       "\n",
       "    .dataframe thead th {\n",
       "        text-align: right;\n",
       "    }\n",
       "</style>\n",
       "<table border=\"1\" class=\"dataframe\">\n",
       "  <thead>\n",
       "    <tr style=\"text-align: right;\">\n",
       "      <th></th>\n",
       "      <th>PatientId</th>\n",
       "      <th>AppointmentID</th>\n",
       "      <th>Gender</th>\n",
       "      <th>ScheduledDay</th>\n",
       "      <th>AppointmentDay</th>\n",
       "      <th>Age</th>\n",
       "      <th>Neighbourhood</th>\n",
       "      <th>Scholarship</th>\n",
       "      <th>Hipertension</th>\n",
       "      <th>Diabetes</th>\n",
       "      <th>Alcoholism</th>\n",
       "      <th>Handcap</th>\n",
       "      <th>SMS_received</th>\n",
       "      <th>Absent</th>\n",
       "      <th>ScheduledDayOfWeek</th>\n",
       "      <th>AppointmentDayOfWeek</th>\n",
       "    </tr>\n",
       "  </thead>\n",
       "  <tbody>\n",
       "    <tr>\n",
       "      <th>0</th>\n",
       "      <td>2.987250e+13</td>\n",
       "      <td>5642903</td>\n",
       "      <td>F</td>\n",
       "      <td>2016-04-29 18:38:08</td>\n",
       "      <td>2016-04-29</td>\n",
       "      <td>62</td>\n",
       "      <td>JARDIM DA PENHA</td>\n",
       "      <td>0</td>\n",
       "      <td>1</td>\n",
       "      <td>0</td>\n",
       "      <td>0</td>\n",
       "      <td>0</td>\n",
       "      <td>0</td>\n",
       "      <td>0</td>\n",
       "      <td>4</td>\n",
       "      <td>4</td>\n",
       "    </tr>\n",
       "    <tr>\n",
       "      <th>1</th>\n",
       "      <td>5.589980e+14</td>\n",
       "      <td>5642503</td>\n",
       "      <td>M</td>\n",
       "      <td>2016-04-29 16:08:27</td>\n",
       "      <td>2016-04-29</td>\n",
       "      <td>56</td>\n",
       "      <td>JARDIM DA PENHA</td>\n",
       "      <td>0</td>\n",
       "      <td>0</td>\n",
       "      <td>0</td>\n",
       "      <td>0</td>\n",
       "      <td>0</td>\n",
       "      <td>0</td>\n",
       "      <td>0</td>\n",
       "      <td>4</td>\n",
       "      <td>4</td>\n",
       "    </tr>\n",
       "    <tr>\n",
       "      <th>2</th>\n",
       "      <td>4.262960e+12</td>\n",
       "      <td>5642549</td>\n",
       "      <td>F</td>\n",
       "      <td>2016-04-29 16:19:04</td>\n",
       "      <td>2016-04-29</td>\n",
       "      <td>62</td>\n",
       "      <td>MATA DA PRAIA</td>\n",
       "      <td>0</td>\n",
       "      <td>0</td>\n",
       "      <td>0</td>\n",
       "      <td>0</td>\n",
       "      <td>0</td>\n",
       "      <td>0</td>\n",
       "      <td>0</td>\n",
       "      <td>4</td>\n",
       "      <td>4</td>\n",
       "    </tr>\n",
       "    <tr>\n",
       "      <th>3</th>\n",
       "      <td>8.679510e+11</td>\n",
       "      <td>5642828</td>\n",
       "      <td>F</td>\n",
       "      <td>2016-04-29 17:29:31</td>\n",
       "      <td>2016-04-29</td>\n",
       "      <td>8</td>\n",
       "      <td>PONTAL DE CAMBURI</td>\n",
       "      <td>0</td>\n",
       "      <td>0</td>\n",
       "      <td>0</td>\n",
       "      <td>0</td>\n",
       "      <td>0</td>\n",
       "      <td>0</td>\n",
       "      <td>0</td>\n",
       "      <td>4</td>\n",
       "      <td>4</td>\n",
       "    </tr>\n",
       "    <tr>\n",
       "      <th>4</th>\n",
       "      <td>8.841190e+12</td>\n",
       "      <td>5642494</td>\n",
       "      <td>F</td>\n",
       "      <td>2016-04-29 16:07:23</td>\n",
       "      <td>2016-04-29</td>\n",
       "      <td>56</td>\n",
       "      <td>JARDIM DA PENHA</td>\n",
       "      <td>0</td>\n",
       "      <td>1</td>\n",
       "      <td>1</td>\n",
       "      <td>0</td>\n",
       "      <td>0</td>\n",
       "      <td>0</td>\n",
       "      <td>0</td>\n",
       "      <td>4</td>\n",
       "      <td>4</td>\n",
       "    </tr>\n",
       "  </tbody>\n",
       "</table>\n",
       "</div>"
      ],
      "text/plain": [
       "      PatientId  AppointmentID Gender        ScheduledDay AppointmentDay  Age  \\\n",
       "0  2.987250e+13        5642903      F 2016-04-29 18:38:08     2016-04-29   62   \n",
       "1  5.589980e+14        5642503      M 2016-04-29 16:08:27     2016-04-29   56   \n",
       "2  4.262960e+12        5642549      F 2016-04-29 16:19:04     2016-04-29   62   \n",
       "3  8.679510e+11        5642828      F 2016-04-29 17:29:31     2016-04-29    8   \n",
       "4  8.841190e+12        5642494      F 2016-04-29 16:07:23     2016-04-29   56   \n",
       "\n",
       "       Neighbourhood  Scholarship  Hipertension  Diabetes  Alcoholism  \\\n",
       "0    JARDIM DA PENHA            0             1         0           0   \n",
       "1    JARDIM DA PENHA            0             0         0           0   \n",
       "2      MATA DA PRAIA            0             0         0           0   \n",
       "3  PONTAL DE CAMBURI            0             0         0           0   \n",
       "4    JARDIM DA PENHA            0             1         1           0   \n",
       "\n",
       "   Handcap  SMS_received  Absent  ScheduledDayOfWeek  AppointmentDayOfWeek  \n",
       "0        0             0       0                   4                     4  \n",
       "1        0             0       0                   4                     4  \n",
       "2        0             0       0                   4                     4  \n",
       "3        0             0       0                   4                     4  \n",
       "4        0             0       0                   4                     4  "
      ]
     },
     "execution_count": 10,
     "metadata": {},
     "output_type": "execute_result"
    }
   ],
   "source": [
    "# Changing values to numerical. Yes = 1, No = 0\n",
    "df1 = df1.replace({'Absent': {'Yes': 1, 'No': 0}})\n",
    "df1.head()"
   ]
  },
  {
   "cell_type": "code",
   "execution_count": 11,
   "metadata": {},
   "outputs": [
    {
     "data": {
      "text/plain": [
       "0    88208\n",
       "1    22319\n",
       "Name: Absent, dtype: int64"
      ]
     },
     "execution_count": 11,
     "metadata": {},
     "output_type": "execute_result"
    }
   ],
   "source": [
    "# Double checking whether the value count remains the same after converting the Absent column\n",
    "df1.Absent.value_counts()"
   ]
  },
  {
   "cell_type": "code",
   "execution_count": 12,
   "metadata": {},
   "outputs": [
    {
     "data": {
      "text/plain": [
       "F    71840\n",
       "M    38687\n",
       "Name: Gender, dtype: int64"
      ]
     },
     "execution_count": 12,
     "metadata": {},
     "output_type": "execute_result"
    }
   ],
   "source": [
    "# Checking value count of Gender col\n",
    "df1.Gender.value_counts()"
   ]
  },
  {
   "cell_type": "code",
   "execution_count": 13,
   "metadata": {},
   "outputs": [
    {
     "data": {
      "text/html": [
       "<div>\n",
       "<style scoped>\n",
       "    .dataframe tbody tr th:only-of-type {\n",
       "        vertical-align: middle;\n",
       "    }\n",
       "\n",
       "    .dataframe tbody tr th {\n",
       "        vertical-align: top;\n",
       "    }\n",
       "\n",
       "    .dataframe thead th {\n",
       "        text-align: right;\n",
       "    }\n",
       "</style>\n",
       "<table border=\"1\" class=\"dataframe\">\n",
       "  <thead>\n",
       "    <tr style=\"text-align: right;\">\n",
       "      <th></th>\n",
       "      <th>PatientId</th>\n",
       "      <th>AppointmentID</th>\n",
       "      <th>Gender</th>\n",
       "      <th>ScheduledDay</th>\n",
       "      <th>AppointmentDay</th>\n",
       "      <th>Age</th>\n",
       "      <th>Neighbourhood</th>\n",
       "      <th>Scholarship</th>\n",
       "      <th>Hipertension</th>\n",
       "      <th>Diabetes</th>\n",
       "      <th>Alcoholism</th>\n",
       "      <th>Handcap</th>\n",
       "      <th>SMS_received</th>\n",
       "      <th>Absent</th>\n",
       "      <th>ScheduledDayOfWeek</th>\n",
       "      <th>AppointmentDayOfWeek</th>\n",
       "    </tr>\n",
       "  </thead>\n",
       "  <tbody>\n",
       "    <tr>\n",
       "      <th>110522</th>\n",
       "      <td>2.572130e+12</td>\n",
       "      <td>5651768</td>\n",
       "      <td>0</td>\n",
       "      <td>2016-05-03 09:15:35</td>\n",
       "      <td>2016-06-07</td>\n",
       "      <td>56</td>\n",
       "      <td>MARIA ORTIZ</td>\n",
       "      <td>0</td>\n",
       "      <td>0</td>\n",
       "      <td>0</td>\n",
       "      <td>0</td>\n",
       "      <td>0</td>\n",
       "      <td>1</td>\n",
       "      <td>0</td>\n",
       "      <td>1</td>\n",
       "      <td>1</td>\n",
       "    </tr>\n",
       "    <tr>\n",
       "      <th>110523</th>\n",
       "      <td>3.596270e+12</td>\n",
       "      <td>5650093</td>\n",
       "      <td>0</td>\n",
       "      <td>2016-05-03 07:27:33</td>\n",
       "      <td>2016-06-07</td>\n",
       "      <td>51</td>\n",
       "      <td>MARIA ORTIZ</td>\n",
       "      <td>0</td>\n",
       "      <td>0</td>\n",
       "      <td>0</td>\n",
       "      <td>0</td>\n",
       "      <td>0</td>\n",
       "      <td>1</td>\n",
       "      <td>0</td>\n",
       "      <td>1</td>\n",
       "      <td>1</td>\n",
       "    </tr>\n",
       "    <tr>\n",
       "      <th>110524</th>\n",
       "      <td>1.557660e+13</td>\n",
       "      <td>5630692</td>\n",
       "      <td>0</td>\n",
       "      <td>2016-04-27 16:03:52</td>\n",
       "      <td>2016-06-07</td>\n",
       "      <td>21</td>\n",
       "      <td>MARIA ORTIZ</td>\n",
       "      <td>0</td>\n",
       "      <td>0</td>\n",
       "      <td>0</td>\n",
       "      <td>0</td>\n",
       "      <td>0</td>\n",
       "      <td>1</td>\n",
       "      <td>0</td>\n",
       "      <td>2</td>\n",
       "      <td>1</td>\n",
       "    </tr>\n",
       "    <tr>\n",
       "      <th>110525</th>\n",
       "      <td>9.213490e+13</td>\n",
       "      <td>5630323</td>\n",
       "      <td>0</td>\n",
       "      <td>2016-04-27 15:09:23</td>\n",
       "      <td>2016-06-07</td>\n",
       "      <td>38</td>\n",
       "      <td>MARIA ORTIZ</td>\n",
       "      <td>0</td>\n",
       "      <td>0</td>\n",
       "      <td>0</td>\n",
       "      <td>0</td>\n",
       "      <td>0</td>\n",
       "      <td>1</td>\n",
       "      <td>0</td>\n",
       "      <td>2</td>\n",
       "      <td>1</td>\n",
       "    </tr>\n",
       "    <tr>\n",
       "      <th>110526</th>\n",
       "      <td>3.775120e+14</td>\n",
       "      <td>5629448</td>\n",
       "      <td>0</td>\n",
       "      <td>2016-04-27 13:30:56</td>\n",
       "      <td>2016-06-07</td>\n",
       "      <td>54</td>\n",
       "      <td>MARIA ORTIZ</td>\n",
       "      <td>0</td>\n",
       "      <td>0</td>\n",
       "      <td>0</td>\n",
       "      <td>0</td>\n",
       "      <td>0</td>\n",
       "      <td>1</td>\n",
       "      <td>0</td>\n",
       "      <td>2</td>\n",
       "      <td>1</td>\n",
       "    </tr>\n",
       "  </tbody>\n",
       "</table>\n",
       "</div>"
      ],
      "text/plain": [
       "           PatientId  AppointmentID  Gender        ScheduledDay  \\\n",
       "110522  2.572130e+12        5651768       0 2016-05-03 09:15:35   \n",
       "110523  3.596270e+12        5650093       0 2016-05-03 07:27:33   \n",
       "110524  1.557660e+13        5630692       0 2016-04-27 16:03:52   \n",
       "110525  9.213490e+13        5630323       0 2016-04-27 15:09:23   \n",
       "110526  3.775120e+14        5629448       0 2016-04-27 13:30:56   \n",
       "\n",
       "       AppointmentDay  Age Neighbourhood  Scholarship  Hipertension  Diabetes  \\\n",
       "110522     2016-06-07   56   MARIA ORTIZ            0             0         0   \n",
       "110523     2016-06-07   51   MARIA ORTIZ            0             0         0   \n",
       "110524     2016-06-07   21   MARIA ORTIZ            0             0         0   \n",
       "110525     2016-06-07   38   MARIA ORTIZ            0             0         0   \n",
       "110526     2016-06-07   54   MARIA ORTIZ            0             0         0   \n",
       "\n",
       "        Alcoholism  Handcap  SMS_received  Absent  ScheduledDayOfWeek  \\\n",
       "110522           0        0             1       0                   1   \n",
       "110523           0        0             1       0                   1   \n",
       "110524           0        0             1       0                   2   \n",
       "110525           0        0             1       0                   2   \n",
       "110526           0        0             1       0                   2   \n",
       "\n",
       "        AppointmentDayOfWeek  \n",
       "110522                     1  \n",
       "110523                     1  \n",
       "110524                     1  \n",
       "110525                     1  \n",
       "110526                     1  "
      ]
     },
     "execution_count": 13,
     "metadata": {},
     "output_type": "execute_result"
    }
   ],
   "source": [
    "# Converting Gender to binary values\n",
    "df1 = df1.replace({'Gender': {'M': 1, 'F': 0}})\n",
    "df1.tail()"
   ]
  },
  {
   "cell_type": "code",
   "execution_count": 14,
   "metadata": {},
   "outputs": [
    {
     "data": {
      "text/plain": [
       "0    71840\n",
       "1    38687\n",
       "Name: Gender, dtype: int64"
      ]
     },
     "execution_count": 14,
     "metadata": {},
     "output_type": "execute_result"
    }
   ],
   "source": [
    "# Double checking whether the value count remains the same after converting the Gender column\n",
    "df1.Gender.value_counts()"
   ]
  },
  {
   "cell_type": "code",
   "execution_count": 15,
   "metadata": {},
   "outputs": [
    {
     "data": {
      "image/png": "[encoded data removed]",
      "text/plain": [
       "<Figure size 432x288 with 1 Axes>"
      ]
     },
     "metadata": {
      "needs_background": "light"
     },
     "output_type": "display_data"
    }
   ],
   "source": [
    "# Taking a look at the age distribution.\n",
    "df1.Age.hist()\n",
    "\n",
    "# Creating age bins and labels\n",
    "bins = [0,18,36,54,72,115]\n",
    "labels = [\"0-18\", \"19-36\", \"37-54\", \"55-72\", \"73+\"]"
   ]
  },
  {
   "cell_type": "code",
   "execution_count": 16,
   "metadata": {
    "scrolled": true
   },
   "outputs": [
    {
     "data": {
      "text/plain": [
       "PatientId                  0\n",
       "AppointmentID              0\n",
       "Gender                     0\n",
       "ScheduledDay               0\n",
       "AppointmentDay             0\n",
       "Age                        0\n",
       "Neighbourhood              0\n",
       "Scholarship                0\n",
       "Hipertension               0\n",
       "Diabetes                   0\n",
       "Alcoholism                 0\n",
       "Handcap                    0\n",
       "SMS_received               0\n",
       "Absent                     0\n",
       "ScheduledDayOfWeek         0\n",
       "AppointmentDayOfWeek       0\n",
       "Age_Group               3540\n",
       "dtype: int64"
      ]
     },
     "execution_count": 16,
     "metadata": {},
     "output_type": "execute_result"
    }
   ],
   "source": [
    "# Creating a new col Age_Group with the age classificaiton based on the bins and labels we created\n",
    "df1['Age_Group'] = pd.cut(df1['Age'], bins,labels=labels)\n",
    "\n",
    "#Double checking whether we missed some age records\n",
    "df1.isnull().sum()"
   ]
  },
  {
   "cell_type": "markdown",
   "metadata": {},
   "source": [
    "#### Comments\n",
    "3540 Age records were not classified.\n",
    "One possible explanation why so many values have not been classified is that there are either negative age values or children below 1 year."
   ]
  },
  {
   "cell_type": "code",
   "execution_count": 17,
   "metadata": {},
   "outputs": [
    {
     "data": {
      "text/html": [
       "<div>\n",
       "<style scoped>\n",
       "    .dataframe tbody tr th:only-of-type {\n",
       "        vertical-align: middle;\n",
       "    }\n",
       "\n",
       "    .dataframe tbody tr th {\n",
       "        vertical-align: top;\n",
       "    }\n",
       "\n",
       "    .dataframe thead th {\n",
       "        text-align: right;\n",
       "    }\n",
       "</style>\n",
       "<table border=\"1\" class=\"dataframe\">\n",
       "  <thead>\n",
       "    <tr style=\"text-align: right;\">\n",
       "      <th></th>\n",
       "      <th>PatientId</th>\n",
       "      <th>AppointmentID</th>\n",
       "      <th>Gender</th>\n",
       "      <th>ScheduledDay</th>\n",
       "      <th>AppointmentDay</th>\n",
       "      <th>Age</th>\n",
       "      <th>Neighbourhood</th>\n",
       "      <th>Scholarship</th>\n",
       "      <th>Hipertension</th>\n",
       "      <th>Diabetes</th>\n",
       "      <th>Alcoholism</th>\n",
       "      <th>Handcap</th>\n",
       "      <th>SMS_received</th>\n",
       "      <th>Absent</th>\n",
       "      <th>ScheduledDayOfWeek</th>\n",
       "      <th>AppointmentDayOfWeek</th>\n",
       "      <th>Age_Group</th>\n",
       "    </tr>\n",
       "  </thead>\n",
       "  <tbody>\n",
       "    <tr>\n",
       "      <th>59</th>\n",
       "      <td>7.184430e+13</td>\n",
       "      <td>5638545</td>\n",
       "      <td>0</td>\n",
       "      <td>2016-04-29 08:08:43</td>\n",
       "      <td>2016-04-29</td>\n",
       "      <td>0</td>\n",
       "      <td>CONQUISTA</td>\n",
       "      <td>0</td>\n",
       "      <td>0</td>\n",
       "      <td>0</td>\n",
       "      <td>0</td>\n",
       "      <td>0</td>\n",
       "      <td>0</td>\n",
       "      <td>0</td>\n",
       "      <td>4</td>\n",
       "      <td>4</td>\n",
       "      <td>NaN</td>\n",
       "    </tr>\n",
       "    <tr>\n",
       "      <th>63</th>\n",
       "      <td>2.366230e+14</td>\n",
       "      <td>5628286</td>\n",
       "      <td>1</td>\n",
       "      <td>2016-04-27 10:46:12</td>\n",
       "      <td>2016-04-29</td>\n",
       "      <td>0</td>\n",
       "      <td>SÃO BENEDITO</td>\n",
       "      <td>0</td>\n",
       "      <td>0</td>\n",
       "      <td>0</td>\n",
       "      <td>0</td>\n",
       "      <td>0</td>\n",
       "      <td>0</td>\n",
       "      <td>0</td>\n",
       "      <td>2</td>\n",
       "      <td>4</td>\n",
       "      <td>NaN</td>\n",
       "    </tr>\n",
       "    <tr>\n",
       "      <th>64</th>\n",
       "      <td>1.885170e+14</td>\n",
       "      <td>5616082</td>\n",
       "      <td>1</td>\n",
       "      <td>2016-04-25 13:28:21</td>\n",
       "      <td>2016-04-29</td>\n",
       "      <td>0</td>\n",
       "      <td>ILHA DAS CAIEIRAS</td>\n",
       "      <td>0</td>\n",
       "      <td>0</td>\n",
       "      <td>0</td>\n",
       "      <td>0</td>\n",
       "      <td>0</td>\n",
       "      <td>1</td>\n",
       "      <td>0</td>\n",
       "      <td>0</td>\n",
       "      <td>4</td>\n",
       "      <td>NaN</td>\n",
       "    </tr>\n",
       "    <tr>\n",
       "      <th>65</th>\n",
       "      <td>2.718820e+14</td>\n",
       "      <td>5628321</td>\n",
       "      <td>1</td>\n",
       "      <td>2016-04-27 10:48:50</td>\n",
       "      <td>2016-04-29</td>\n",
       "      <td>0</td>\n",
       "      <td>CONQUISTA</td>\n",
       "      <td>0</td>\n",
       "      <td>0</td>\n",
       "      <td>0</td>\n",
       "      <td>0</td>\n",
       "      <td>0</td>\n",
       "      <td>0</td>\n",
       "      <td>0</td>\n",
       "      <td>2</td>\n",
       "      <td>4</td>\n",
       "      <td>NaN</td>\n",
       "    </tr>\n",
       "    <tr>\n",
       "      <th>67</th>\n",
       "      <td>8.647130e+13</td>\n",
       "      <td>5639264</td>\n",
       "      <td>0</td>\n",
       "      <td>2016-04-29 08:53:02</td>\n",
       "      <td>2016-04-29</td>\n",
       "      <td>0</td>\n",
       "      <td>NOVA PALESTINA</td>\n",
       "      <td>0</td>\n",
       "      <td>0</td>\n",
       "      <td>0</td>\n",
       "      <td>0</td>\n",
       "      <td>0</td>\n",
       "      <td>0</td>\n",
       "      <td>0</td>\n",
       "      <td>4</td>\n",
       "      <td>4</td>\n",
       "      <td>NaN</td>\n",
       "    </tr>\n",
       "  </tbody>\n",
       "</table>\n",
       "</div>"
      ],
      "text/plain": [
       "       PatientId  AppointmentID  Gender        ScheduledDay AppointmentDay  \\\n",
       "59  7.184430e+13        5638545       0 2016-04-29 08:08:43     2016-04-29   \n",
       "63  2.366230e+14        5628286       1 2016-04-27 10:46:12     2016-04-29   \n",
       "64  1.885170e+14        5616082       1 2016-04-25 13:28:21     2016-04-29   \n",
       "65  2.718820e+14        5628321       1 2016-04-27 10:48:50     2016-04-29   \n",
       "67  8.647130e+13        5639264       0 2016-04-29 08:53:02     2016-04-29   \n",
       "\n",
       "    Age      Neighbourhood  Scholarship  Hipertension  Diabetes  Alcoholism  \\\n",
       "59    0          CONQUISTA            0             0         0           0   \n",
       "63    0       SÃO BENEDITO            0             0         0           0   \n",
       "64    0  ILHA DAS CAIEIRAS            0             0         0           0   \n",
       "65    0          CONQUISTA            0             0         0           0   \n",
       "67    0     NOVA PALESTINA            0             0         0           0   \n",
       "\n",
       "    Handcap  SMS_received  Absent  ScheduledDayOfWeek  AppointmentDayOfWeek  \\\n",
       "59        0             0       0                   4                     4   \n",
       "63        0             0       0                   2                     4   \n",
       "64        0             1       0                   0                     4   \n",
       "65        0             0       0                   2                     4   \n",
       "67        0             0       0                   4                     4   \n",
       "\n",
       "   Age_Group  \n",
       "59       NaN  \n",
       "63       NaN  \n",
       "64       NaN  \n",
       "65       NaN  \n",
       "67       NaN  "
      ]
     },
     "execution_count": 17,
     "metadata": {},
     "output_type": "execute_result"
    }
   ],
   "source": [
    "# Lets take a look at the values\n",
    "queryNull = df1.query(\"Age < 1\")\n",
    "queryNull.head()"
   ]
  },
  {
   "cell_type": "markdown",
   "metadata": {},
   "source": [
    "#### Comments\n",
    "Since there are so many records of \"0\" age, we can assume that it is not a mistake and we are talking about babies younger than 1 year."
   ]
  },
  {
   "cell_type": "code",
   "execution_count": 18,
   "metadata": {},
   "outputs": [
    {
     "data": {
      "text/plain": [
       "PatientId               0\n",
       "AppointmentID           0\n",
       "Gender                  0\n",
       "ScheduledDay            0\n",
       "AppointmentDay          0\n",
       "Age                     0\n",
       "Neighbourhood           0\n",
       "Scholarship             0\n",
       "Hipertension            0\n",
       "Diabetes                0\n",
       "Alcoholism              0\n",
       "Handcap                 0\n",
       "SMS_received            0\n",
       "Absent                  0\n",
       "ScheduledDayOfWeek      0\n",
       "AppointmentDayOfWeek    0\n",
       "Age_Group               1\n",
       "dtype: int64"
      ]
     },
     "execution_count": 18,
     "metadata": {},
     "output_type": "execute_result"
    }
   ],
   "source": [
    "# Adjusting the bins so it includes 0 Age\n",
    "bins = [-0.00001,18,36,54,72,115]\n",
    "labels = [\"0-18\", \"19-36\", \"37-54\", \"55-72\", \"73+\"]\n",
    "df1['Age_Group'] = pd.cut(df1['Age'], bins,labels=labels)\n",
    "df1.isnull().sum()"
   ]
  },
  {
   "cell_type": "code",
   "execution_count": 19,
   "metadata": {},
   "outputs": [
    {
     "data": {
      "text/plain": [
       "PatientId               0\n",
       "AppointmentID           0\n",
       "Gender                  0\n",
       "ScheduledDay            0\n",
       "AppointmentDay          0\n",
       "Age                     0\n",
       "Neighbourhood           0\n",
       "Scholarship             0\n",
       "Hipertension            0\n",
       "Diabetes                0\n",
       "Alcoholism              0\n",
       "Handcap                 0\n",
       "SMS_received            0\n",
       "Absent                  0\n",
       "ScheduledDayOfWeek      0\n",
       "AppointmentDayOfWeek    0\n",
       "Age_Group               0\n",
       "dtype: int64"
      ]
     },
     "execution_count": 19,
     "metadata": {},
     "output_type": "execute_result"
    }
   ],
   "source": [
    "# It seems there is one value that has not been classified. Lets take a look how it looks like\n",
    "# For negative values, there is only one, which is - 1. Since it is only 1 entry, it is most likely a mistake so I will drop it\n",
    "queryNull = df1.query(\"Age < 0\")\n",
    "df1.drop(df1.index[99832],inplace=True)\n",
    "df1.isnull().sum()"
   ]
  },
  {
   "cell_type": "markdown",
   "metadata": {},
   "source": [
    "<a id='eda'></a>\n",
    "## Exploratory Data Analysis"
   ]
  },
  {
   "cell_type": "markdown",
   "metadata": {},
   "source": [
    "### Research Question 1 (What are neighborhoods with the most absentees?)"
   ]
  },
  {
   "cell_type": "code",
   "execution_count": 20,
   "metadata": {},
   "outputs": [
    {
     "data": {
      "image/png": "[encoded data removed]",
      "text/plain": [
       "<Figure size 432x288 with 1 Axes>"
      ]
     },
     "metadata": {
      "needs_background": "light"
     },
     "output_type": "display_data"
    }
   ],
   "source": [
    "# Filtering dataset to the people with Absences\n",
    "absentdf = df1.query('Absent == 1')\n",
    "\n",
    "# Aggregating to a list of 10 neighbourhoods with the most absences\n",
    "absentByNeighbourhood = absentdf.groupby(\"Neighbourhood\")[\"Neighbourhood\"].count().nlargest(10)\n",
    "\n",
    "# Creating a function generate_labels that will create a labels from an aggregated list of values\n",
    "# Input: aggregated(grouped) dataframe\n",
    "# Output: list of labels\n",
    "def generate_labels(aggregated_dataframe):\n",
    "    return aggregated_dataframe.index.tolist()\n",
    "\n",
    "# Creating a bar chart\n",
    "locations = [1,2,3,4,5,6,7,8,9,10]\n",
    "heights = absentByNeighbourhood.values.tolist()\n",
    "# Need to list the labels and rename the title, xlabel, ylabel\n",
    "labels = generate_labels(absentByNeighbourhood)\n",
    "\n",
    "plt.bar(locations, heights, tick_label=labels)\n",
    "plt.xticks(rotation=90)\n",
    "plt.title('Absences by Neighbourhood')\n",
    "plt.xlabel('Neighborhood')\n",
    "plt.ylabel('Number of Absences');"
   ]
  },
  {
   "cell_type": "markdown",
   "metadata": {},
   "source": [
    "#### Comments\n",
    "The neighbourhood with the most absences are Jardum Camburi followed by Maria Ortiz and Itararé. A good future potential research question would be to identify if there are common variables that these neighborhoods share (Unemployment rate, Income, # of hospitals per capita, etc.). Limitation: We have to keep in mind, that all these neighbourhoods also have the most data points in this dataset so the results might be skewed in that regards. We cannot make a fair comparison there since the range of the data points is from 0 to hundreds with a differing distribution across other variables (Age, Gender, etc.)"
   ]
  },
  {
   "cell_type": "markdown",
   "metadata": {},
   "source": [
    "### Research Question 2  (What days were the most appointments missed?)"
   ]
  },
  {
   "cell_type": "code",
   "execution_count": 24,
   "metadata": {},
   "outputs": [
    {
     "data": {
      "text/plain": [
       "Text(0.5, 0, 'Number of absences')"
      ]
     },
     "execution_count": 24,
     "metadata": {},
     "output_type": "execute_result"
    },
    {
     "data": {
      "image/png": "[encoded data removed]",
      "text/plain": [
       "<Figure size 432x288 with 1 Axes>"
      ]
     },
     "metadata": {
      "needs_background": "light"
     },
     "output_type": "display_data"
    }
   ],
   "source": [
    "# Aggreggating all the absentees by Day of Week\n",
    "absentByDays = absentdf.groupby(\"AppointmentDayOfWeek\")[\"AppointmentDayOfWeek\"].count()              \n",
    "               \n",
    "# Creating a horizontal bar chart to visualise the absences by day\n",
    "w = [\"Sat\", \"Fri\", \"Thu\", \"Wed\", \"Tue\", \"Mon\"]\n",
    "c = absentByDays.values.tolist()\n",
    "c.reverse()\n",
    "\n",
    "plt.barh(w, c, align='center', color=\"green\")\n",
    "plt.title(\"All the absences by day of the week\")\n",
    "plt.ylabel(\"Day of the week\")\n",
    "plt.xlabel(\"Number of absences\")"
   ]
  },
  {
   "cell_type": "markdown",
   "metadata": {},
   "source": [
    "#### Comments\n",
    "The days with the most absences are unsurprisingly Mon-Wednesday, when people tend to be most busy and the least on Saturday with 9 absences only."
   ]
  },
  {
   "cell_type": "markdown",
   "metadata": {},
   "source": [
    "### Research Question 3 (Which age groups (Young, Adults, etc.) have the most absences?)"
   ]
  },
  {
   "cell_type": "code",
   "execution_count": 25,
   "metadata": {},
   "outputs": [
    {
     "data": {
      "image/png": "[encoded data removed]",
      "text/plain": [
       "<Figure size 432x288 with 1 Axes>"
      ]
     },
     "metadata": {
      "needs_background": "light"
     },
     "output_type": "display_data"
    }
   ],
   "source": [
    "# Aggreggting all the absentees by their Age Group\n",
    "absentByAge = absentdf.groupby(\"Age_Group\")[\"Age_Group\"].count()\n",
    "locations = [1,2,3,4,5]\n",
    "heights = absentByAge.values.tolist()\n",
    "\n",
    "# Creating a bar chart\n",
    "labels = [\"0-18\", \"19-36\", \"37-54\", \"55-72\", \"73+\"]\n",
    "plt.bar(locations, heights, tick_label=labels)\n",
    "plt.title('Absences by Age Group')\n",
    "plt.xlabel('Age Group')\n",
    "plt.ylabel('Number of Absences');"
   ]
  },
  {
   "cell_type": "code",
   "execution_count": 26,
   "metadata": {},
   "outputs": [
    {
     "data": {
      "text/plain": [
       "<matplotlib.axes._subplots.AxesSubplot at 0x1fc46236a58>"
      ]
     },
     "execution_count": 26,
     "metadata": {},
     "output_type": "execute_result"
    },
    {
     "data": {
      "image/png": "[encoded data removed]",
      "text/plain": [
       "<Figure size 432x288 with 1 Axes>"
      ]
     },
     "metadata": {
      "needs_background": "light"
     },
     "output_type": "display_data"
    }
   ],
   "source": [
    "# Creating a boxplot to study distribution of Age\n",
    "sns.boxplot(x=\"Absent\", y=\"Age\", data=df1)"
   ]
  },
  {
   "cell_type": "markdown",
   "metadata": {},
   "source": [
    "#### Comments \n",
    "It seems that more absentees tend to be younger on average and the least absent age group are patients above 73 years old. However, this could be skewed by our age distribution of our records, which have fewer 73+ records than the records of the other groups. The other groups have a comparable number of records so even if we exclude 73+ years olds who have 3x less entries than the rest, the 55-72 group still has the fewest absences by far."
   ]
  },
  {
   "cell_type": "markdown",
   "metadata": {},
   "source": [
    "### Research Question 4 (Are people who receive SMS more or less absent than the ones who do not?)"
   ]
  },
  {
   "cell_type": "code",
   "execution_count": 42,
   "metadata": {},
   "outputs": [
    {
     "data": {
      "image/png": "[encoded data removed]",
      "text/plain": [
       "<Figure size 432x288 with 1 Axes>"
      ]
     },
     "metadata": {
      "needs_background": "light"
     },
     "output_type": "display_data"
    }
   ],
   "source": [
    "# Creating df of total distribution of SMS\n",
    "totalSMSDistribution = df1.groupby(\"SMS_received\")[\"SMS_received\"].count()\n",
    "\n",
    "# Total distribution of SMS splitted into two groups: Those who received SMS and those who did not\n",
    "receivedSMS = totalSMSDistribution[1]\n",
    "noSMS = totalSMSDistribution[0]\n",
    "\n",
    "# To make a fair comparison, we need to compare attendace of each group relatively.\n",
    "# Therefore, we need to separate the dataset into two groups:\n",
    "# Those who received SMS and Showed Up\n",
    "receivedSMSAndShowedUp = df1.query(\"SMS_received == 1  & Absent == 0\")[\"PatientId\"].count()\n",
    "# Those who did not receive SMS and Showed Up\n",
    "noSMSAndShowedUp = df1.query(\"SMS_received == 0  & Absent == 0\")[\"PatientId\"].count()\n",
    "\n",
    "# From the numbers above, we can calculate relative attendance for each SMS subgroup\n",
    "receivedSMSAndShowedUpRelative = receivedSMSAndShowedUp / receivedSMS\n",
    "noSMSAndShowedUpRelative = noSMSAndShowedUp / noSMS\n",
    "\n",
    "# Creating a bar chart with a relative attendance within each SMS subgroup\n",
    "locations = [1,2]\n",
    "heights = [receivedSMSAndShowedUpRelative, noSMSAndShowedUpRelative]\n",
    "labels = [\"Received sms\", \"No SMS\"]\n",
    "plt.bar(locations, heights, tick_label=labels)\n",
    "plt.title('Relative attendance comparison between each SMS subgroup')\n",
    "plt.xticks(rotation=0)\n",
    "plt.xlabel('')\n",
    "plt.ylabel('% of who showed up in the group');"
   ]
  },
  {
   "cell_type": "markdown",
   "metadata": {},
   "source": [
    "#### Comments\n",
    "Relatively, 83.3% of the people who did not receive any SMS showed up compared to 72.4% of those who received SMS and showed up. This may indicate that whether patients received SMS or not did not have much of an effect on their attendance or even alternatively, it could have negative effect as the difference is more than 10% - We will explore more in the question 5"
   ]
  },
  {
   "cell_type": "markdown",
   "metadata": {},
   "source": [
    "### Research Question 5 (What variables have the most impact on whether someone shows up or not?)\n",
    "To answer that question we will use Logistic regression and run it in two ways using the following two packages:\n",
    "<ol>\n",
    "    <li>Scikit - For predicting Absence</li>\n",
    "    <li>Statsmodels - For a more \"stat\" view and to get an overall model summary</li>\n",
    "</ol>"
   ]
  },
  {
   "cell_type": "code",
   "execution_count": 27,
   "metadata": {},
   "outputs": [
    {
     "name": "stdout",
     "output_type": "stream",
     "text": [
      "Index(['PatientId', 'AppointmentID', 'Gender', 'ScheduledDay',\n",
      "       'AppointmentDay', 'Age', 'Neighbourhood', 'Scholarship', 'Hipertension',\n",
      "       'Diabetes', 'Alcoholism', 'Handcap', 'SMS_received', 'Absent',\n",
      "       'ScheduledDayOfWeek', 'AppointmentDayOfWeek', 'Age_Group'],\n",
      "      dtype='object')\n"
     ]
    },
    {
     "data": {
      "text/html": [
       "<div>\n",
       "<style scoped>\n",
       "    .dataframe tbody tr th:only-of-type {\n",
       "        vertical-align: middle;\n",
       "    }\n",
       "\n",
       "    .dataframe tbody tr th {\n",
       "        vertical-align: top;\n",
       "    }\n",
       "\n",
       "    .dataframe thead th {\n",
       "        text-align: right;\n",
       "    }\n",
       "</style>\n",
       "<table border=\"1\" class=\"dataframe\">\n",
       "  <thead>\n",
       "    <tr style=\"text-align: right;\">\n",
       "      <th></th>\n",
       "      <th>Gender</th>\n",
       "      <th>Age</th>\n",
       "      <th>Scholarship</th>\n",
       "      <th>Hipertension</th>\n",
       "      <th>Diabetes</th>\n",
       "      <th>Alcoholism</th>\n",
       "      <th>Handcap</th>\n",
       "      <th>SMS_received</th>\n",
       "      <th>Absent</th>\n",
       "    </tr>\n",
       "  </thead>\n",
       "  <tbody>\n",
       "    <tr>\n",
       "      <th>110522</th>\n",
       "      <td>0</td>\n",
       "      <td>56</td>\n",
       "      <td>0</td>\n",
       "      <td>0</td>\n",
       "      <td>0</td>\n",
       "      <td>0</td>\n",
       "      <td>0</td>\n",
       "      <td>1</td>\n",
       "      <td>0</td>\n",
       "    </tr>\n",
       "    <tr>\n",
       "      <th>110523</th>\n",
       "      <td>0</td>\n",
       "      <td>51</td>\n",
       "      <td>0</td>\n",
       "      <td>0</td>\n",
       "      <td>0</td>\n",
       "      <td>0</td>\n",
       "      <td>0</td>\n",
       "      <td>1</td>\n",
       "      <td>0</td>\n",
       "    </tr>\n",
       "    <tr>\n",
       "      <th>110524</th>\n",
       "      <td>0</td>\n",
       "      <td>21</td>\n",
       "      <td>0</td>\n",
       "      <td>0</td>\n",
       "      <td>0</td>\n",
       "      <td>0</td>\n",
       "      <td>0</td>\n",
       "      <td>1</td>\n",
       "      <td>0</td>\n",
       "    </tr>\n",
       "    <tr>\n",
       "      <th>110525</th>\n",
       "      <td>0</td>\n",
       "      <td>38</td>\n",
       "      <td>0</td>\n",
       "      <td>0</td>\n",
       "      <td>0</td>\n",
       "      <td>0</td>\n",
       "      <td>0</td>\n",
       "      <td>1</td>\n",
       "      <td>0</td>\n",
       "    </tr>\n",
       "    <tr>\n",
       "      <th>110526</th>\n",
       "      <td>0</td>\n",
       "      <td>54</td>\n",
       "      <td>0</td>\n",
       "      <td>0</td>\n",
       "      <td>0</td>\n",
       "      <td>0</td>\n",
       "      <td>0</td>\n",
       "      <td>1</td>\n",
       "      <td>0</td>\n",
       "    </tr>\n",
       "  </tbody>\n",
       "</table>\n",
       "</div>"
      ],
      "text/plain": [
       "        Gender  Age  Scholarship  Hipertension  Diabetes  Alcoholism  Handcap  \\\n",
       "110522       0   56            0             0         0           0        0   \n",
       "110523       0   51            0             0         0           0        0   \n",
       "110524       0   21            0             0         0           0        0   \n",
       "110525       0   38            0             0         0           0        0   \n",
       "110526       0   54            0             0         0           0        0   \n",
       "\n",
       "        SMS_received  Absent  \n",
       "110522             1       0  \n",
       "110523             1       0  \n",
       "110524             1       0  \n",
       "110525             1       0  \n",
       "110526             1       0  "
      ]
     },
     "execution_count": 27,
     "metadata": {},
     "output_type": "execute_result"
    }
   ],
   "source": [
    "# Taking a look at all the available variables\n",
    "print(df1.keys())\n",
    "\n",
    "# Creating a new df with columns that are relevant for Absence\n",
    "# E.g. PatientID, AppointmentID, ScheduledDay most likely won´t have impact on whether someone is gonna show up or not\n",
    "predictionDf = df1.iloc[:, [2,5,7,8,9,10,11,12,13]]\n",
    "\n",
    "predictionDf.tail()"
   ]
  },
  {
   "cell_type": "code",
   "execution_count": 28,
   "metadata": {},
   "outputs": [],
   "source": [
    "# Creating a df X containing all the features (Scholarship, Hipertension, Diabates, etc.) - Features\n",
    "X = predictionDf.iloc[:,:-1]\n",
    "\n",
    "# Creating a df Y containing only a predictor (Absent) - Target variable\n",
    "Y = predictionDf[\"Absent\"]"
   ]
  },
  {
   "cell_type": "code",
   "execution_count": 29,
   "metadata": {},
   "outputs": [
    {
     "data": {
      "text/plain": [
       "0    88207\n",
       "1    22319\n",
       "Name: Absent, dtype: int64"
      ]
     },
     "execution_count": 29,
     "metadata": {},
     "output_type": "execute_result"
    }
   ],
   "source": [
    "df1[\"Absent\"].value_counts()"
   ]
  },
  {
   "cell_type": "markdown",
   "metadata": {},
   "source": [
    "#### Comments\n",
    "Our classes (Absent) are heavily imbalanced. This can significantly skew the end results of our model and predictions"
   ]
  },
  {
   "cell_type": "code",
   "execution_count": 31,
   "metadata": {},
   "outputs": [
    {
     "data": {
      "text/plain": [
       "(33158, 8)"
      ]
     },
     "execution_count": 31,
     "metadata": {},
     "output_type": "execute_result"
    }
   ],
   "source": [
    "# Split the data into 4 arrays X_train, Y_train, X_test, and Y_test. \n",
    "#  Where 70% of our entries will be train data and 30% test data\n",
    "X_train, X_test, Y_train, Y_test = train_test_split(X, Y, test_size=0.3, random_state=0)\n",
    "X_test.shape"
   ]
  },
  {
   "cell_type": "markdown",
   "metadata": {},
   "source": [
    "#### Running the logistic regression using Scikit"
   ]
  },
  {
   "cell_type": "code",
   "execution_count": 32,
   "metadata": {},
   "outputs": [
    {
     "data": {
      "text/plain": [
       "LogisticRegression(C=1.0, class_weight=None, dual=False, fit_intercept=True,\n",
       "          intercept_scaling=1, max_iter=100, multi_class='warn',\n",
       "          n_jobs=None, penalty='l2', random_state=0, solver='lbfgs',\n",
       "          tol=0.0001, verbose=0, warm_start=False)"
      ]
     },
     "execution_count": 32,
     "metadata": {},
     "output_type": "execute_result"
    }
   ],
   "source": [
    "# Creating a classifier (model)\n",
    "classifier = LogisticRegression(solver='lbfgs',random_state=0)\n",
    "\n",
    "# Tuning the classifier\n",
    "results = classifier.fit(X_train, Y_train)\n",
    "results"
   ]
  },
  {
   "cell_type": "code",
   "execution_count": 33,
   "metadata": {},
   "outputs": [
    {
     "name": "stdout",
     "output_type": "stream",
     "text": [
      "[[-0.01981537 -0.00682406  0.20085129 -0.08090452  0.08736036  0.17582606\n",
      "   0.03517306  0.65869571]]\n",
      "[-1.37081855]\n"
     ]
    }
   ],
   "source": [
    "# Looking at the coefficients and intercept - Will interpret them in the part with Statsmodel\n",
    "print(results.coef_)\n",
    "print(results.intercept_)"
   ]
  },
  {
   "cell_type": "markdown",
   "metadata": {},
   "source": [
    "#### Comments\n",
    "Notice that the intercepts and the coefficient is slightly different from the ones in the statsmodel (below).\n",
    "That is because Scikit uses regularization which improves generalization performance, i.e., the performance on new, unseen data"
   ]
  },
  {
   "cell_type": "code",
   "execution_count": 34,
   "metadata": {},
   "outputs": [
    {
     "data": {
      "text/plain": [
       "array([0, 0, 0, ..., 0, 0, 0], dtype=int64)"
      ]
     },
     "execution_count": 34,
     "metadata": {},
     "output_type": "execute_result"
    }
   ],
   "source": [
    "# We test the classifier using the X_test array\n",
    "predicted_y = classifier.predict(X_test)\n",
    "predicted_y"
   ]
  },
  {
   "cell_type": "code",
   "execution_count": 35,
   "metadata": {},
   "outputs": [
    {
     "name": "stdout",
     "output_type": "stream",
     "text": [
      "Accuracy: 0.80\n"
     ]
    }
   ],
   "source": [
    "# Checking how accurate our model is\n",
    "print('Accuracy: {:.2f}'.format(classifier.score(X_test, Y_test)))"
   ]
  },
  {
   "cell_type": "code",
   "execution_count": 36,
   "metadata": {},
   "outputs": [
    {
     "name": "stdout",
     "output_type": "stream",
     "text": [
      "[[26565     0]\n",
      " [ 6593     0]]\n"
     ]
    }
   ],
   "source": [
    "# Confusion Matrix\n",
    "c1 = metrics.confusion_matrix(Y_test,predicted_y)\n",
    "print(c1)"
   ]
  },
  {
   "cell_type": "markdown",
   "metadata": {},
   "source": [
    "#### Comments\n",
    "<ul>\n",
    "<li>True positive (TP): 26565 (We predicted that patient will not show up and patient originally did not show up)</li>\n",
    "<li>True negative (TN): 0 (We predicted patient will show up and patient originally showed up)</li>\n",
    "<li>False positive (FP): 6593 (We predicted patient will not show up and originally patient showed up)</li>\n",
    "<li>False negative (FN): 0 (We predicted patients will show up but originally these patients did not show up)</li>\n",
    "</ul>"
   ]
  },
  {
   "cell_type": "code",
   "execution_count": 37,
   "metadata": {},
   "outputs": [
    {
     "name": "stdout",
     "output_type": "stream",
     "text": [
      "precision: 0.8011641232884975\n",
      "recall: 0.8011641232884975\n",
      "fscore: 0.8011641232884975\n",
      "support: None\n"
     ]
    }
   ],
   "source": [
    "#Evaluation matrices\n",
    "from sklearn.metrics import precision_recall_fscore_support as score\n",
    "\n",
    "#Accuracy = (TP+TN)/total, Accuracy= (26565+0)/= 26565/33158= 0.80= 80%\n",
    "precision, recall, fscore, support = score(Y_test, predicted_y, average=\"micro\")\n",
    "\n",
    "print('precision: {}'.format(precision))\n",
    "print('recall: {}'.format(recall))\n",
    "print('fscore: {}'.format(fscore))\n",
    "print('support: {}'.format(support))"
   ]
  },
  {
   "cell_type": "markdown",
   "metadata": {},
   "source": [
    "#### Comments\n",
    "Precision can be intuitively understood as the classifier’s ability to only predict really positive samples as positive. \n",
    "Recall can be interpreted as the amount of positive test samples that were actually classified as positive.\n",
    "F1 is just the weighted average between precision and recall. The higher precision and recall are, the higher the F1 score is. \n",
    "Source: https://simonhessner.de/why-are-precision-recall-and-f1-score-equal-when-using-micro-averaging-in-a-multi-class-problem/"
   ]
  },
  {
   "cell_type": "code",
   "execution_count": 38,
   "metadata": {},
   "outputs": [
    {
     "data": {
      "image/png": "[encoded data removed]",
      "text/plain": [
       "<Figure size 432x288 with 1 Axes>"
      ]
     },
     "metadata": {
      "needs_background": "light"
     },
     "output_type": "display_data"
    }
   ],
   "source": [
    "#ROC curve and AUC value\n",
    "y_pred_proba = classifier.predict_proba(X_test)[::,1]\n",
    "fpr, tpr, _ = metrics.roc_curve(Y_test,  y_pred_proba)\n",
    "auc = metrics.roc_auc_score(Y_test, y_pred_proba)\n",
    "plt.plot(fpr,tpr,label=\"data 1, auc=\"+str(auc))\n",
    "plt.legend(loc=4)\n",
    "plt.title(\"ROC Curve\")\n",
    "plt.xlabel('False Positive')\n",
    "plt.ylabel('True Positive');\n",
    "plt.show()"
   ]
  },
  {
   "cell_type": "markdown",
   "metadata": {},
   "source": [
    "#### Comments\n",
    "The AUC value is 0.59 which is not that great. An AUC of 1 would be a perfect classifier and 0.5 is worthless as it means that our model is just a random prediction. "
   ]
  },
  {
   "cell_type": "markdown",
   "metadata": {},
   "source": [
    "#### Running the logistic regression using Statsmodel"
   ]
  },
  {
   "cell_type": "code",
   "execution_count": 39,
   "metadata": {},
   "outputs": [
    {
     "name": "stdout",
     "output_type": "stream",
     "text": [
      "Optimization terminated successfully.\n",
      "         Current function value: 0.493036\n",
      "         Iterations 6\n",
      "                          Results: Logit\n",
      "==================================================================\n",
      "Model:              Logit            Pseudo R-squared: 0.020      \n",
      "Dependent Variable: Absent           AIC:              109004.5946\n",
      "Date:               2020-02-04 09:10 BIC:              109091.1116\n",
      "No. Observations:   110526           Log-Likelihood:   -54493.    \n",
      "Df Model:           8                LL-Null:          -55603.    \n",
      "Df Residuals:       110517           LLR p-value:      0.0000     \n",
      "Converged:          1.0000           Scale:            1.0000     \n",
      "No. Iterations:     6.0000                                        \n",
      "-------------------------------------------------------------------\n",
      "               Coef.   Std.Err.     z      P>|z|    [0.025   0.975]\n",
      "-------------------------------------------------------------------\n",
      "const         -1.3842    0.0176  -78.7178  0.0000  -1.4187  -1.3498\n",
      "Gender        -0.0183    0.0163   -1.1208  0.2624  -0.0502   0.0137\n",
      "Age           -0.0066    0.0004  -16.7426  0.0000  -0.0073  -0.0058\n",
      "Scholarship    0.1844    0.0245    7.5220  0.0000   0.1363   0.2324\n",
      "Hipertension  -0.0679    0.0246   -2.7631  0.0057  -0.1161  -0.0197\n",
      "Diabetes       0.0851    0.0341    2.4950  0.0126   0.0183   0.1520\n",
      "Alcoholism     0.1401    0.0448    3.1278  0.0018   0.0523   0.2279\n",
      "Handcap        0.0321    0.0485    0.6619  0.5081  -0.0630   0.1272\n",
      "SMS_received   0.6499    0.0155   42.0079  0.0000   0.6196   0.6802\n",
      "==================================================================\n",
      "\n"
     ]
    }
   ],
   "source": [
    "# Importing statsmodel package\n",
    "import statsmodels.api as sm\n",
    "\n",
    "# Adding an intercept\n",
    "X = sm.add_constant(X) ## let's add an intercept to our model\n",
    "\n",
    "# Coducting the logit analysis using sm to get the result summary (scikit does not have it)\n",
    "logit_model=sm.Logit(Y,X)\n",
    "result=logit_model.fit()\n",
    "print(result.summary2())"
   ]
  },
  {
   "cell_type": "markdown",
   "metadata": {},
   "source": [
    "#### Comments\n",
    "<ol>\n",
    "    <li> Our model has an R-squared 0.02, which is really low. It means that this model explains 2% of the variance in our dependent variable (Absence). That means that it really does not fit very well and we would have to try different models (Decision Tree Classifier, Random Forest, etc.)</li>\n",
    "    <li> The p-values for Gender, Hipertension (Borderline), Diabetes and Handcap are > 0.05, a common alpha level. That indicates that they are not statistically significant and in the next iteration we could remove them from the model.</li>\n",
    "</ol>"
   ]
  },
  {
   "cell_type": "code",
   "execution_count": 40,
   "metadata": {
    "scrolled": true
   },
   "outputs": [
    {
     "name": "stdout",
     "output_type": "stream",
     "text": [
      "                  2.5%     97.5%        OR\n",
      "const         0.242028  0.259300  0.250515\n",
      "Gender        0.951068  1.013759  0.981913\n",
      "Age           0.992685  0.994214  0.993449\n",
      "Scholarship   1.146045  1.261609  1.202439\n",
      "Hipertension  0.890376  0.980449  0.934328\n",
      "Diabetes      1.018424  1.164184  1.088868\n",
      "Alcoholism    1.053700  1.255941  1.150385\n",
      "Handcap       0.938978  1.135610  1.032624\n",
      "SMS_received  1.858153  1.974329  1.915360\n"
     ]
    }
   ],
   "source": [
    "# Calculating the odds ratios and outputting it with 95% CI\n",
    "params = result.params\n",
    "conf = result.conf_int()\n",
    "conf['OR'] = params\n",
    "conf.columns = ['2.5%', '97.5%', 'OR']\n",
    "print (np.exp(conf))"
   ]
  },
  {
   "cell_type": "markdown",
   "metadata": {},
   "source": [
    "#### Takeaways (Hypothethical as the model does not really fit well)\n",
    "<ol>  \n",
    " <li>The p-values for Gender, Hipertension (Borderline), Diabetes and Handcap are > 0.05, a common alpha level. That indicates that they are not statistically significant and in the next iteration we could remove them from the model. </li>  \n",
    " <li>For Age, the coefficient is -0.0183. This means that for every one-unit increase in Age, we expect a a 0.0183 decrease in the log-odds of the dependent variable Absent, holding all other variables constant</li>  \n",
    " <li>For Scholarship, the coefficient is 0.1844. This means that for every one-unit increase in Scholarship (in other words from having no scholarship to having it), we expect a a 0.1844 increase in the log-odds of the dependent variable Absent, holding all other variables constant. If we interpret this value via the Odds Ratio, for someone who has scholarship, the odds of Absence(Not showing up) are 1.202439 times higher than the odds for a non-scholar.</li>  \n",
    " <li> For every unit increase in Alcoholism (in other words from from having no Alcoholism to having it), we expect a 0.1401  increase in the log-odds of the dependent variable Absent, holding all other variables constant. If we interpret this value via the Odds Ratio, for someone who has Alcoholism, the odds of Absence(Not showing up) are 1.150385 higher than the odds for someone with no Alcoholism </li>\n",
    " <li> For every unit increase in SMS_Received (in other words from from having no SMS to having it), we expect a  0.6499 increase in the log-odds of the dependent variable Absent, holding all other variables constant. If we interpret this value via the Odds Ratio, for someone who received SMS, the odds of Absence(Not showing up) are 1.915360 times higher than the odds for someone who did not received SMS - This one is the most surprising as one would expect that if patient receives SMS, they are more likely to show up.</li>\n",
    "</ol>  "
   ]
  },
  {
   "cell_type": "markdown",
   "metadata": {},
   "source": [
    "<a id='conclusions'></a>\n",
    "## Conclusions"
   ]
  },
  {
   "cell_type": "markdown",
   "metadata": {
    "collapsed": true
   },
   "source": [
    "#### During this analysis, we focused on answering 5 questions::\n",
    "<ol>  \n",
    " <li> What neighborhoods have the most absences? </li>  \n",
    " <li> What days were the most appointments missed? </li>  \n",
    " <li> Which age groups (Young, Adults, etc.) have the most absences? </li>  \n",
    " <li> Are people who receive SMS are more or less absent than the ones who do not? </li>  \n",
    " <li> Which characteristics affect the likelihood of absence the most? By how much? </li>\n",
    "</ol>  "
   ]
  },
  {
   "cell_type": "markdown",
   "metadata": {},
   "source": [
    "##### 1. What neighbourhoods have the most absences?"
   ]
  },
  {
   "cell_type": "markdown",
   "metadata": {},
   "source": [
    "We found out that the neighbourhood with the most absences are Jardum Camburi followed by Maria Ortiz and Itararé. A good future potential research question would be to identify if there are common variables that these neighborhoods share (Unemployment rate, Income, # of hospitals per capita, etc.)\n",
    "LIMITATION: The record distribution across neighbourhoods varies quite a lot from 1 record per neighbourhood to 7K+"
   ]
  },
  {
   "cell_type": "markdown",
   "metadata": {},
   "source": [
    "##### 2. What days were the most appointments missed?"
   ]
  },
  {
   "cell_type": "markdown",
   "metadata": {},
   "source": [
    "The days with the most absences are  Mon-Wednesday, and the least missed appointments were on Saturday with 9 absences only."
   ]
  },
  {
   "cell_type": "markdown",
   "metadata": {},
   "source": [
    "##### 3. Which age groups (Young, Adults, etc.) have the most absences?"
   ]
  },
  {
   "cell_type": "markdown",
   "metadata": {},
   "source": [
    "The group with the most absences is 0-18. The absentees tend to be younger on average and the least absent age group are patients above 73 years old. If we exclude the 73+ years group due to low number of records, the 55-72 years old are the next group with the least absences. \n",
    "LIMITATION: Age distribution among our patients in this dataset"
   ]
  },
  {
   "cell_type": "markdown",
   "metadata": {},
   "source": [
    "##### 4. Are people who receive SMS are more or less absent than the ones who do not?"
   ]
  },
  {
   "cell_type": "markdown",
   "metadata": {},
   "source": [
    "Relatively, 83.3% of the people who did not receive any SMS showed up compared to 72.4% of those who received SMS and showed up. This may indicate that whether patients received SMS or not did not have much of an effect on their attendance or even alternatively, it could have negative effect as the difference is more than 10% - We will explore more in the question 5"
   ]
  },
  {
   "cell_type": "markdown",
   "metadata": {},
   "source": [
    "##### 5. Which characteristics affect the likelihood of absence the most? By how much?"
   ]
  },
  {
   "cell_type": "markdown",
   "metadata": {},
   "source": [
    "Since our chosen model does not really fit well (R squared value of 0.02), we are unable to make any conclusion there as it would explain only 2% of the variance in our dependent variable. What the model at least partially supports though, are Q3 and Q4 as it suggests that the age and SMS received are statistically significant and are associated with the Absence:\n",
    "<ul>\n",
    "    <li> Older patients tend to be less absent </li>\n",
    "    <li> Those who receive SMS are more likely to be absent</li>\n",
    "</ul>"
   ]
  },
  {
   "cell_type": "markdown",
   "metadata": {},
   "source": [
    "### Limitations"
   ]
  },
  {
   "cell_type": "markdown",
   "metadata": {},
   "source": [
    "1) Source of data. There is no mention on kaggle about the source of the data. The person who uploaded the data said that it is confidential. Therefore, we dont know whether we can trust this data at all. This brings a multitude of questions such as: \n",
    "\n",
    "<ul>\n",
    "    <li>Who collected the data?</li>\n",
    "    <li>How was the data collected?</li>\n",
    "    <li>What sampling methods were chosen?</li>\n",
    "    <li>What are the different sources and their quality?</li>\n",
    "    <li>How did the data collection process look like?</li>\n",
    "</ul>\n",
    "\n",
    "2) The Age of Data. The dataset contains data from 2016, which is almost 4 year ago. That is still reasonable and analysis from this dataset can serve as good indicators, but a lot can change in 4 years.\n"
   ]
  },
  {
   "cell_type": "markdown",
   "metadata": {},
   "source": [
    "3) The characteristics that have impact on absence in this dataset are mostly health oriented. I hypothesize that there are other more important factors be it socioeconomic status (income, education, occupation etc.), waiting times, mental health, transportation options/availability/infrastructure, scheduling options (phone, online booking, email).\n",
    "\n",
    "4) The distribution of the data collected is skewed across \n",
    "<ul>\n",
    "    <li>Age: For 73+ years old patients, there are almost 3x less entries than every other age group.</li>\n",
    "    <li>Gender: There are 2x more data points of women than men</li>\n",
    "    <li>Absence: 4x less entries from no-shows(Absentees)</li>\n",
    "    <li>SMS_received: 2x more data points from those who did not receive SMS </li>\n",
    "</ul>\n",
    "All of which definitely will affect the accuracy of my analysis."
   ]
  },
  {
   "cell_type": "markdown",
   "metadata": {},
   "source": [
    "To overcome these limitations, we could:\n",
    "<ol>\n",
    "    <li>Ask the kaggle uploader for information about the source of data to understand limitations in more detail.</li>\n",
    "    <li>Adding other than mostly health related characteristics(Education, Socioeconomic Status, Transport options) would make the potential analysis much more comprehensive and reflective of the reality.</li>\n",
    "    <li>Update the data so it includes years 2016 onwards. Then we could observe trends across time.</li>\n",
    "    <li>Collect more samples so the distribution of Age, Gender, Absence, SMS_received and other characteristics are more even.</li>\n",
    "</ol>"
   ]
  },
  {
   "cell_type": "markdown",
   "metadata": {},
   "source": [
    "### Sources"
   ]
  },
  {
   "cell_type": "markdown",
   "metadata": {},
   "source": [
    "<ol>\n",
    "    <b> Data Cleaning, EDA & Visualisations </b>\n",
    "    <li>https://medium.com/@purnasaigudikandula/exploratory-data-analysis-beginner-univariate-bivariate-and-multivariate-habberman-dataset-2365264b751</li> \n",
    "    <li>https://towardsdatascience.com/quick-dive-into-pandas-for-data-science-cc1c1a80d9c4</li>\n",
    "    <li>https://github.com/pandas-dev/pandas/blob/master/doc/cheatsheet/Pandas_Cheat_Sheet.pdf</li>\n",
    "    <li>https://intellipaat.com/blog/tutorial/python-tutorial/numpy-cheat-sheet/</li>\n",
    "    <li> https://pandas.pydata.org/pandas-docs/stable/user_guide/visualization.html </li>\n",
    "<ol>"
   ]
  },
  {
   "cell_type": "markdown",
   "metadata": {},
   "source": [
    "<ol>\n",
    "    <b> Logit Regression & Building model </b>\n",
    "    <li>https://towardsdatascience.com/building-a-logistic-regression-in-python-step-by-step-becd4d56c9c8</li> \n",
    "    <li>https://towardsdatascience.com/simple-and-multiple-linear-regression-in-python-c928425168f9</li>\n",
    "    <li>https://towardsdatascience.com/logit-of-logistic-regression-understanding-the-fundamentals-f384152a33d1</li>\n",
    "    <li>https://scikit-learn.org/stable/modules/generated/sklearn.linear_model.LogisticRegression.html</li>\n",
    "    <li>https://www.statsmodels.org/stable/index.html</li>\n",
    "    <li>https://datascience.stackexchange.com/questions/15989/micro-average-vs-macro-average-performance-in-a-multiclass-classification-settin</li>\n",
    "    <li> https://simonhessner.de/why-are-precision-recall-and-f1-score-equal-when-using-micro-averaging-in-a-multi-class-problem/ </li>\n",
    "<ol>"
   ]
  }
 ],
 "metadata": {
  "kernelspec": {
   "display_name": "Python 3",
   "language": "python",
   "name": "python3"
  },
  "language_info": {
   "codemirror_mode": {
    "name": "ipython",
    "version": 3
   },
   "file_extension": ".py",
   "mimetype": "text/x-python",
   "name": "python",
   "nbconvert_exporter": "python",
   "pygments_lexer": "ipython3",
   "version": "3.7.1"
  }
 },
 "nbformat": 4,
 "nbformat_minor": 2
}
